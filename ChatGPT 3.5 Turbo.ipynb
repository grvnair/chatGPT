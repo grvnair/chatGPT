{
 "cells": [
  {
   "cell_type": "code",
   "execution_count": 1,
   "id": "edf288f6",
   "metadata": {},
   "outputs": [
    {
     "name": "stdout",
     "output_type": "stream",
     "text": [
      "\n",
      "System: \tWhat type of chatbot would you like to create?\n",
      "User: \t\tScience for class 1, 2 and 3\n",
      "\n",
      "Thanks for being a Gradio user! If you have questions or feedback, please join our Discord server and chat with us: https://discord.gg/feTf9x3ZSB\n",
      "Running on local URL:  http://127.0.0.1:7878\n",
      "\n",
      "To create a public link, set `share=True` in `launch()`.\n"
     ]
    },
    {
     "data": {
      "text/html": [
       "<div><iframe src=\"http://127.0.0.1:7878/\" width=\"100%\" height=\"500\" allow=\"autoplay; camera; microphone; clipboard-read; clipboard-write;\" frameborder=\"0\" allowfullscreen></iframe></div>"
      ],
      "text/plain": [
       "<IPython.core.display.HTML object>"
      ]
     },
     "metadata": {},
     "output_type": "display_data"
    },
    {
     "data": {
      "text/plain": []
     },
     "execution_count": 1,
     "metadata": {},
     "output_type": "execute_result"
    },
    {
     "name": "stdout",
     "output_type": "stream",
     "text": [
      "1. Introduction to Science:\n",
      "- What is Science?\n",
      "- Scientists and their work\n",
      "- Observation and experimentation\n",
      "- Tools and equipment used by scientists\n",
      "\n",
      "2. Living and Non-Living Things:\n",
      "- Characteristics of living and non-living things\n",
      "- Classification of living things\n",
      "- Basic needs of living things\n",
      "- Animal and plant cells\n",
      "\n",
      "3. Plants:\n",
      "- Parts of a plant\n",
      "- Types of plants (trees, shrubs, herbs)\n",
      "- Basic structure of a flower\n",
      "- Photosynthesis\n",
      "\n",
      "4. Animals:\n",
      "- Animal groups (mammals, birds, amphibians, reptiles, fish)\n",
      "- Characteristics of animals in each group\n",
      "- Basic structure of an animal cell\n",
      "- Animal adaptations for survival\n",
      "\n",
      "5. Environmental Science:\n",
      "- Air, water, and land pollution\n",
      "- Carbon footprint\n",
      "- Recycling and conservation\n",
      "- Renewable and non-renewable resources\n",
      "\n",
      "6. Earth Science:\n",
      "- Seasons and weather patterns\n",
      "- Natural disasters (earthquakes, volcanic eruptions, hurricanes)\n",
      "- Types of rocks and minerals\n",
      "- The water cycle\n",
      "\n",
      "7. Health and Safety:\n",
      "- Good hygiene practices\n",
      "- How to prevent the spread of germs\n",
      "- First aid basics (bandages, CPR)\n",
      "- Fire safety and emergency procedures\n",
      "\n",
      "8. Technology and Engineering:\n",
      "- Simple machines (levers, pulleys, wheels)\n",
      "- Electrical circuits\n",
      "- Building and construction materials\n",
      "- Transportation and communication technologies\n",
      "Class 1:\n",
      "\n",
      "1. Living and Non-Living Things: The concept of living and non-living things can be introduced to class 1 students. The teacher can explain the characteristics of living things such as growth, movement, and reproduction compared to non-living things.\n",
      "\n",
      "2. Plants: Basic knowledge of plants can be taught to class 1 students. They can learn about different parts of a plant, the importance of sunlight, water, and air for the growth of plants.\n",
      "\n",
      "3. Animals: Class 1 students can be made familiar with various animals, their habitats, and features. They can learn about the different types of animals such as mammals, reptiles, and birds.\n",
      "\n",
      "Class 2:\n",
      "\n",
      "1. Earth and Its Elements: Basic knowledge of the earth, its elements such as air, water, and soil can be introduced to class 2 students. They can learn about natural resources like water and minerals that we use in our daily lives.\n",
      "\n",
      "2. Human Body: The human body can be introduced to class 2 students. They can learn about the different organs and their functions such as the heart, lungs, brain, and digestive system.\n",
      "\n",
      "3. Weather and Seasons: Class 2 students can be taught about the different seasons and weather patterns such as sunshine, rain, wind, and snow.\n",
      "\n",
      "Class 3:\n",
      "\n",
      "1. Rocks and Minerals: Class 3 students can be taught about rocks and minerals. They can learn about different types of rocks like igneous, sedimentary, and metamorphic.\n",
      "\n",
      "2. Force and Motion: The concept of force and motion can be introduced to class 3 students. They can learn about the different types of forces, such as friction, gravity, and magnetism.\n",
      "\n",
      "3. Solar System: The solar system can be taught to class 3 students. They can learn about different planets and their characteristics, the sun, and other celestial bodies. They can learn about eclipses and phases of the moon.\n"
     ]
    }
   ],
   "source": [
    "import gradio as gr\n",
    "import openai\n",
    "\n",
    "openai.api_key = open(\"openai_api_key.txt\", \"r\").read().strip(\"\\n\")\n",
    "\n",
    "user_msg = input(\"\\nSystem: \\tWhat type of chatbot would you like to create?\\nUser: \\t\\t\")\n",
    "\n",
    "def predict(input):\n",
    "    message_history = [{\"role\": \"user\", \"content\": user_msg}]\n",
    "\n",
    "    completion = openai.ChatCompletion.create(\n",
    "      model=\"gpt-3.5-turbo\", \n",
    "      messages=message_history\n",
    "    )\n",
    "    \n",
    "    reply_content = completion.choices[0].message.content\n",
    "\n",
    "    print(reply_content)\n",
    "    message_history.append({\"role\": \"assistant\", \"content\": f\"{reply_content}\"}) \n",
    "    \n",
    "    \n",
    "    response = [(message_history[i][\"content\"], message_history[i+1][\"content\"]) for i in range(2, len(message_history)-1, 2)]  # convert to tuples of list\n",
    "    return response\n",
    "\n",
    "\n",
    "with gr.Blocks() as demo: \n",
    "\n",
    "    chatbot = gr.Chatbot() \n",
    "\n",
    "    with gr.Row(): \n",
    "        txt = gr.Textbox(show_label=False, placeholder=\"Type here and press enter\").style(container=False)\n",
    "    \n",
    "    txt.submit(predict, txt, chatbot)\n",
    "    \n",
    "    txt.submit(None, None, txt, _js=\"() => {''}\")\n",
    "         \n",
    "demo.launch()"
   ]
  },
  {
   "cell_type": "code",
   "execution_count": null,
   "id": "ccc15257",
   "metadata": {},
   "outputs": [],
   "source": []
  }
 ],
 "metadata": {
  "kernelspec": {
   "display_name": "Python 3 (ipykernel)",
   "language": "python",
   "name": "python3"
  },
  "language_info": {
   "codemirror_mode": {
    "name": "ipython",
    "version": 3
   },
   "file_extension": ".py",
   "mimetype": "text/x-python",
   "name": "python",
   "nbconvert_exporter": "python",
   "pygments_lexer": "ipython3",
   "version": "3.9.13"
  }
 },
 "nbformat": 4,
 "nbformat_minor": 5
}
